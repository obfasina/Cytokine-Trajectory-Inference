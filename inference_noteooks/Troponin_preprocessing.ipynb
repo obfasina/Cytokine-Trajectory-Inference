{
 "cells": [
  {
   "cell_type": "code",
   "execution_count": 2,
   "id": "a8521639",
   "metadata": {},
   "outputs": [],
   "source": [
    "import numpy as np\n",
    "import pandas as pd\n",
    "import sys\n",
    "import matplotlib.pyplot as plt\n",
    "import random\n",
    "import math\n",
    "import os\n",
    "from sklearn.linear_model import LinearRegression\n",
    "from sklearn.model_selection import train_test_split"
   ]
  },
  {
   "cell_type": "code",
   "execution_count": 3,
   "id": "f2a52078",
   "metadata": {},
   "outputs": [],
   "source": [
    "troponin = pd.read_csv(\"data/CAE_TnT_original_data.csv\")"
   ]
  },
  {
   "cell_type": "code",
   "execution_count": 4,
   "id": "3130c0c4",
   "metadata": {},
   "outputs": [
    {
     "name": "stdout",
     "output_type": "stream",
     "text": [
      "     Result_TNT Flag_TNT      Sample ID Blood drawn date    Study ID P01  \\\n",
      "0          3.00    <Test         LN001A         7/1/2009  02-1-01ZL1 001   \n",
      "1          3.00    <Test         LN001B        7/20/2009  02-1-01ZL1 001   \n",
      "2          3.00    <Test         LN001C        8/10/2009  02-1-01ZL1 001   \n",
      "3          3.34      NaN         LN001D        9/21/2009  02-1-01ZL1 001   \n",
      "4         71.71        H         LN002A         7/3/2009  02-1-01ZL1 002   \n",
      "..          ...      ...            ...              ...             ...   \n",
      "837        3.87      NaN  Lab9-307-271H       11/23/2016  02-1-04ZL1-007   \n",
      "838        5.44      NaN  Lab9-307-319A        3/10/2014  02-1-04ZL1-009   \n",
      "839       10.14      NaN  Lab9-307-319B         4/1/2014  02-1-04ZL1-009   \n",
      "840        9.20      NaN  Lab9-307-319C        4/14/2014  02-1-04ZL1-009   \n",
      "841        6.81      NaN  Lab9-307-319D        6/16/2014  02-1-04ZL1-009   \n",
      "\n",
      "      tmtstart     tmtend  \n",
      "0     7/1/2009  8/20/2009  \n",
      "1     7/1/2009  8/20/2009  \n",
      "2     7/1/2009  8/20/2009  \n",
      "3     7/1/2009  8/20/2009  \n",
      "4    7/13/2009  9/10/2009  \n",
      "..         ...        ...  \n",
      "837   1/2/2014  2/13/2014  \n",
      "838  3/10/2014  4/18/2014  \n",
      "839  3/10/2014  4/18/2014  \n",
      "840  3/10/2014  4/18/2014  \n",
      "841  3/10/2014  4/18/2014  \n",
      "\n",
      "[842 rows x 7 columns]\n"
     ]
    }
   ],
   "source": [
    "print(troponin)"
   ]
  },
  {
   "cell_type": "code",
   "execution_count": 5,
   "id": "41328db4",
   "metadata": {},
   "outputs": [],
   "source": [
    "\n",
    "#Step 1: Get uniuqe list of ID's\n",
    "temp = troponin.iloc[:,4].unique()\n",
    "unique = [x for x in temp if isinstance(x,str)]\n",
    "uniqueID = np.array(unique)\n",
    "\n",
    "n_pat = uniqueID.shape[0]\n",
    "n_obs = troponin.shape[0]"
   ]
  },
  {
   "cell_type": "code",
   "execution_count": 6,
   "id": "b2070422",
   "metadata": {},
   "outputs": [
    {
     "name": "stdout",
     "output_type": "stream",
     "text": [
      "200\n",
      "842\n"
     ]
    }
   ],
   "source": [
    "print(n_pat)\n",
    "print(n_obs)\n"
   ]
  },
  {
   "cell_type": "code",
   "execution_count": 7,
   "id": "f7072240",
   "metadata": {},
   "outputs": [],
   "source": [
    "#Create tensor of [N patients x K time points x D dimensions]\n",
    "\n",
    "\n",
    "c = 0\n",
    "a = 0\n",
    "time = np.zeros(n_obs)\n",
    "ID = []\n",
    "for i in range(n_obs - 1):\n",
    "    \n",
    "    \n",
    "    if troponin.iloc[i,4] != troponin.iloc[i+1,4]:\n",
    "        \n",
    "        time[a] = 0\n",
    "        a = i + 1\n",
    "        \n",
    "        ID.append(c)\n",
    "        c = c + 1\n",
    "\n",
    "    else:\n",
    "        hold = troponin.iloc[a,3] \n",
    "        x = pd.to_datetime(troponin.iloc[i+1,3]) -  pd.to_datetime(hold)\n",
    "        time[i+1] = x.total_seconds()/86400\n",
    "        ID.append(c)\n",
    "            \n",
    "ID.append(c)\n",
    "ID = np.array(ID).reshape((n_obs,1))\n",
    "values =  troponin.iloc[:,0].values.reshape((n_obs,1))\n",
    "mask = np.ones(n_obs).reshape((n_obs,1))\n",
    "cov = np.zeros(n_obs).reshape((n_obs,1))\n",
    "ID = ID.reshape((n_obs,1))\n",
    "time = time.reshape((n_obs,1))"
   ]
  },
  {
   "cell_type": "code",
   "execution_count": 29,
   "id": "0ed226d4",
   "metadata": {},
   "outputs": [],
   "source": [
    "#Standardize data\n",
    "meangt_troponin = np.mean(values)\n",
    "stdgt_troponin = np.std(values)\n",
    "\n",
    "\n",
    "#values = ( values -  meangt_troponin)/stdgt_troponin\n"
   ]
  },
  {
   "cell_type": "code",
   "execution_count": 9,
   "id": "a0f2847d",
   "metadata": {},
   "outputs": [],
   "source": [
    "\n",
    "full = np.concatenate((ID,time,values,mask,cov),axis=1)\n",
    "columns = ['ID','Time','Value_0','Mask_0','Cov']"
   ]
  },
  {
   "cell_type": "code",
   "execution_count": 10,
   "id": "94d3da3d",
   "metadata": {},
   "outputs": [],
   "source": [
    "df = pd.DataFrame(full, columns = columns)\n",
    "df.to_csv('processed_data/troponin_gt.csv',index=False)"
   ]
  },
  {
   "cell_type": "code",
   "execution_count": 11,
   "id": "83716bfe",
   "metadata": {},
   "outputs": [],
   "source": [
    "# Hold out the second time step\n",
    "\n",
    "\"\"\"\n",
    "holdout = []\n",
    "k = 2 #Time point to holdout\n",
    "for i in range(n_obs - 1):\n",
    "    \n",
    "    if full[i,0] != full[i+1,0]: #Then i + 1 is next patient so skip i + 2\n",
    "        a = 0\n",
    "        \n",
    "    a = a + 1\n",
    "    if a == k + 1:\n",
    "        continue\n",
    "        \n",
    "    holdout.append(full[i,:])\n",
    "    \n",
    "holdout = np.array(holdout)\n",
    "holdout = np.delete(holdout, 1, 0)   \n",
    "\n",
    "\"\"\"\n",
    "\n",
    "holdout = []\n",
    "for i in range(n_obs - 1):\n",
    "    \n",
    "    if full[i,0] == full[i+1,0]: #Then i + 1 is next patient so skip i + 2\n",
    "        holdout.append(full[i,:])\n",
    "    \n",
    "holdout = np.array(holdout)\n",
    " \n",
    "        \n",
    "        "
   ]
  },
  {
   "cell_type": "code",
   "execution_count": 12,
   "id": "ef92129a",
   "metadata": {},
   "outputs": [],
   "source": [
    "df = pd.DataFrame(holdout, columns = columns)\n",
    "df.to_csv('processed_data/troponin_holdout.csv',index=False)"
   ]
  },
  {
   "cell_type": "code",
   "execution_count": 21,
   "id": "1b52222e",
   "metadata": {},
   "outputs": [],
   "source": [
    "T = holdout[:,1].max()\n",
    "delta_t = 1\n",
    "N = holdout.shape[0]"
   ]
  },
  {
   "cell_type": "code",
   "execution_count": 14,
   "id": "56aaeca3",
   "metadata": {},
   "outputs": [
    {
     "name": "stdout",
     "output_type": "stream",
     "text": [
      "969.0\n",
      "642\n"
     ]
    }
   ],
   "source": [
    "print(T)\n",
    "print(N)"
   ]
  },
  {
   "cell_type": "code",
   "execution_count": 22,
   "id": "dc746889",
   "metadata": {},
   "outputs": [],
   "source": [
    "#create metadata for GRU-ode run\n",
    "metadata_dict = {\"T\":T,\"delta_t\":delta_t,\"N\":N}\n",
    "np.save(\"processed_data/troponin_holdout_metadata.npy\",metadata_dict)\n"
   ]
  },
  {
   "cell_type": "code",
   "execution_count": 16,
   "id": "b42f132a",
   "metadata": {},
   "outputs": [
    {
     "data": {
      "text/plain": [
       "'/gpfs/ysm/home/of56/MGH'"
      ]
     },
     "execution_count": 16,
     "metadata": {},
     "output_type": "execute_result"
    }
   ],
   "source": [
    "os.getcwd()"
   ]
  },
  {
   "cell_type": "code",
   "execution_count": 53,
   "id": "11a21d18",
   "metadata": {},
   "outputs": [
    {
     "name": "stdout",
     "output_type": "stream",
     "text": [
      "969.0\n"
     ]
    }
   ],
   "source": [
    "print(T)"
   ]
  },
  {
   "cell_type": "code",
   "execution_count": 17,
   "id": "4cd45b6f",
   "metadata": {},
   "outputs": [
    {
     "name": "stdout",
     "output_type": "stream",
     "text": [
      "[[  0.     0.     3.     1.     0.  ]\n",
      " [  0.    19.     3.     1.     0.  ]\n",
      " [  0.    40.     3.     1.     0.  ]\n",
      " ...\n",
      " [199.    22.    10.14   1.     0.  ]\n",
      " [199.    35.     9.2    1.     0.  ]\n",
      " [199.    98.     6.81   1.     0.  ]]\n"
     ]
    }
   ],
   "source": [
    "# Create tensor of patients\n",
    "\n",
    "print(full)\n",
    "patensor = []\n",
    "j = 0\n",
    "a = 0\n",
    "for i in range(n_obs - 1):\n",
    "    if full[i,0] == full[i + 1, 0]:\n",
    "        a += 1\n",
    "    else:\n",
    "        patensor.append(full[i-a:i+1,:])\n",
    "        a = 0\n",
    "        \n",
    "patensor.append(full[-4:,:])\n"
   ]
  },
  {
   "cell_type": "markdown",
   "id": "a123e8f6",
   "metadata": {},
   "source": [
    "# Run GRU-ODE and analyze output"
   ]
  },
  {
   "cell_type": "code",
   "execution_count": 23,
   "id": "03f6d2c3",
   "metadata": {},
   "outputs": [
    {
     "name": "stdout",
     "output_type": "stream",
     "text": [
      "513\n",
      "129\n"
     ]
    },
    {
     "name": "stderr",
     "output_type": "stream",
     "text": [
      "0it [00:00, ?it/s]/gpfs/ysm/home/of56/gru_ode_bayes/gru_ode_bayes/data_utils.py:232: UserWarning: Creating a tensor from a list of numpy.ndarrays is extremely slow. Please consider converting the list to a single numpy.ndarray with numpy.array() before converting to a tensor. (Triggered internally at  /opt/conda/conda-bld/pytorch_1646755897462/work/torch/csrc/utils/tensor_new.cpp:210.)\n",
      "  df_cov    = torch.Tensor([b[\"cov\"] for b in batch])\n",
      "3it [00:03,  1.14s/it]"
     ]
    },
    {
     "name": "stdout",
     "output_type": "stream",
     "text": [
      "Loss tensor(6164.6191, device='cuda:0', grad_fn=<AddBackward0>)\n",
      "Epoch 0\n"
     ]
    },
    {
     "name": "stderr",
     "output_type": "stream",
     "text": [
      "\n",
      "/gpfs/ysm/home/of56/gru_ode_bayes/gru_ode_bayes/data_utils.py:232: UserWarning: Creating a tensor from a list of numpy.ndarrays is extremely slow. Please consider converting the list to a single numpy.ndarray with numpy.array() before converting to a tensor. (Triggered internally at  /opt/conda/conda-bld/pytorch_1646755897462/work/torch/csrc/utils/tensor_new.cpp:210.)\n",
      "  df_cov    = torch.Tensor([b[\"cov\"] for b in batch])\n"
     ]
    },
    {
     "name": "stdout",
     "output_type": "stream",
     "text": [
      "(1031,)\n",
      "torch.Size([1031, 64, 2])\n",
      "Done\n"
     ]
    },
    {
     "data": {
      "text/plain": [
       "<Figure size 432x288 with 0 Axes>"
      ]
     },
     "metadata": {},
     "output_type": "display_data"
    }
   ],
   "source": [
    "# Train GRU-ODE Model\n",
    "\n",
    "%run -i '/home/of56/gru_ode_bayes/experiments/double_OU/double_ou_gruode.py'"
   ]
  },
  {
   "cell_type": "code",
   "execution_count": 115,
   "id": "36c2bdfc",
   "metadata": {},
   "outputs": [],
   "source": [
    "#Load model output\n",
    "obs_ID = np.load(\"obs_id.npy\")\n",
    "modeloutput = np.load(\"mean_cov.npy\")\n",
    "times = np.load(\"time.npy\")\n",
    "modeloutput = np.load(\"predictions.npy\")\n",
    "\n",
    "\n",
    "ntime = [round(x,1) for x in times]\n"
   ]
  },
  {
   "cell_type": "code",
   "execution_count": 116,
   "id": "fc29a72b",
   "metadata": {},
   "outputs": [
    {
     "name": "stdout",
     "output_type": "stream",
     "text": [
      "(1031,)\n",
      "(1020, 37, 2)\n",
      "(5, 1)\n"
     ]
    }
   ],
   "source": [
    "print(times.shape)\n",
    "print(modeloutput.shape)\n",
    "print(samp.shape)"
   ]
  },
  {
   "cell_type": "code",
   "execution_count": 121,
   "id": "cb7c9960",
   "metadata": {},
   "outputs": [
    {
     "data": {
      "image/png": "[encoded data removed]",
      "text/plain": [
       "<Figure size 1008x720 with 3 Axes>"
      ]
     },
     "metadata": {
      "needs_background": "light"
     },
     "output_type": "display_data"
    }
   ],
   "source": [
    "\n",
    "\n",
    "#Plotting\n",
    "totpred = []\n",
    "totgrd = []\n",
    "totimes = []\n",
    "\n",
    "%matplotlib inline\n",
    "plt.figure(figsize=(14,10))\n",
    "for i in range(4): #Looping through 4 different patients\n",
    "    \n",
    "\n",
    "    \n",
    "    patID = np.random.choice(np.arange(modeloutput.shape[1]),replace=True) #select patient ID\n",
    "    samp = []\n",
    "    for k in range(patensor[patID].shape[0]): #Get time index\n",
    "        tindx = np.argwhere(ntime == patensor[patID][k,1])[0]\n",
    "        X = modeloutput[tindx,patID,:]\n",
    "        samp.append(np.random.normal(X[:,0],np.sqrt(np.abs(X[:,1])))) # Get model predictions for each time point\n",
    "        #X = modeloutput[:,patID,:]\n",
    "        #samp.append(np.random.normal(X[:,0],np.sqrt(np.abs(X[:,1])))) # Get model predictions for each time point\n",
    "    samp = np.array(samp)\n",
    "    \n",
    "    if patensor[patID].shape[0] < 3:\n",
    "        continue\n",
    "        \n",
    "        \n",
    "\n",
    "\n",
    "    plt.subplot(2,2,i+1)\n",
    "    plt.subplots_adjust(hspace = 0.3)\n",
    "    plt.scatter(patensor[patID][:,1],patensor[patID][:,2],c='green',s=110)\n",
    "    plt.scatter(patensor[patID][:,1],samp,c='red',s=110)\n",
    "    #plt.plot(times,samp,c='red',s=110)\n",
    "    plt.scatter(patensor[patID][-1,1],patensor[patID][-1,2],c='black',marker='+',s=100)\n",
    "    plt.title(\"Patient ID: \" + str(patID),fontsize=16,fontweight = 'bold')\n",
    "    plt.xlabel(\"Time\",fontsize=14)\n",
    "    plt.ylabel(\"Troponin Level\",fontsize=14)\n",
    "    plt.legend(['Ground Truth','Predicted','Held out'])\n"
   ]
  },
  {
   "cell_type": "code",
   "execution_count": 33,
   "id": "c97639c6",
   "metadata": {},
   "outputs": [
    {
     "name": "stdout",
     "output_type": "stream",
     "text": [
      "9.433764845605701\n"
     ]
    }
   ],
   "source": [
    "# Discard outliers\n",
    "\n",
    "\n",
    "\n",
    "print(meangt_troponin)\n"
   ]
  },
  {
   "cell_type": "code",
   "execution_count": 86,
   "id": "4c04449b",
   "metadata": {},
   "outputs": [
    {
     "name": "stdout",
     "output_type": "stream",
     "text": [
      "52.32386654441237\n"
     ]
    }
   ],
   "source": [
    "\n",
    "#Get mean of value of held out time point for all patients\n",
    "\n",
    "ltimep = []\n",
    "for j in range(n_pat):\n",
    "    ltimep.append(patensor[j][-1,2])\n",
    "mltimep = np.array(ltimep).mean()\n",
    "    \n",
    "perrstats = [] \n",
    "for j in range(100):\n",
    "    #MSE computation\n",
    "    perr = []\n",
    "    se = []\n",
    "    abserr = []\n",
    "\n",
    "    totpred = []\n",
    "    totgrd = []\n",
    "    totimes = []\n",
    "    toterr = []\n",
    "    for i in range(modeloutput.shape[1]):\n",
    "\n",
    "        if patensor[i].shape[0] < 3:\n",
    "            continue\n",
    "\n",
    "        if np.abs(patensor[i][-1,2]) > meangt_troponin + np.abs(stdgt_troponin)*2:\n",
    "            continue\n",
    "\n",
    "\n",
    "\n",
    "        tindx = np.argwhere(ntime == patensor[i][-1,1])[0]\n",
    "        X = modeloutput[tindx,i,:]\n",
    "\n",
    "\n",
    "        samp = np.random.normal(X[0,0],np.sqrt(np.abs(X[0,1])))\n",
    "\n",
    "        gt = (patensor[i][-1,2] * stdgt_troponin) + meangt_troponin\n",
    "        pred = (samp * stdgt_troponin) +  meangt_troponin\n",
    "\n",
    "        perr.append( (np.abs((gt - pred))/gt)*100 )\n",
    "        #perr.append( (np.abs((patensor[i][-1,2] - samp))/patensor[i][-1,2])*100 )\n",
    "        se.append( (patensor[i][-1,2] - samp)**2 )\n",
    "        abserr.append( np.abs((patensor[i][-1,2] - samp)) )\n",
    "\n",
    "\n",
    "        totpred.append(samp)\n",
    "        totgrd.append(patensor[i][-1,2])\n",
    "        totimes.append(patensor[i][-1,1])\n",
    "\n",
    "\n",
    "    mse = np.mean(se)\n",
    "    mperr = np.mean(perr)\n",
    "    maxerr = np.max(abserr)\n",
    "    \n",
    "perrstats.append(mperr)\n",
    "print(np.mean(perrstats))\n"
   ]
  },
  {
   "cell_type": "code",
   "execution_count": 84,
   "id": "c30a7683",
   "metadata": {},
   "outputs": [
    {
     "data": {
      "text/plain": [
       "Text(0, 0.5, 'Percent Error')"
      ]
     },
     "execution_count": 84,
     "metadata": {},
     "output_type": "execute_result"
    },
    {
     "data": {
      "image/png": "[encoded data removed]",
      "text/plain": [
       "<Figure size 432x288 with 1 Axes>"
      ]
     },
     "metadata": {
      "needs_background": "light"
     },
     "output_type": "display_data"
    }
   ],
   "source": [
    "\n",
    "plt.figure()\n",
    "plt.title(\"Summary of predictions for all patients\",fontweight='bold',fontsize=14)\n",
    "#plt.scatter(totimes,totpred)\n",
    "#plt.scatter(totimes,totgrd)\n",
    "plt.scatter(totimes,perr)\n",
    "plt.xlabel(\"Patients\",fontsize=14)\n",
    "plt.ylabel(\"Percent Error\",fontsize=14)\n",
    "\n",
    "\n"
   ]
  },
  {
   "cell_type": "code",
   "execution_count": 85,
   "id": "49921c6e",
   "metadata": {},
   "outputs": [
    {
     "name": "stdout",
     "output_type": "stream",
     "text": [
      "Mean squared error\n",
      "93.91166078930736\n",
      "Mean percent error\n",
      "46.859778430238336\n",
      "Max error\n",
      "22.61923415369973\n"
     ]
    }
   ],
   "source": [
    "print(\"Mean squared error\")\n",
    "print(mse)\n",
    "print(\"Mean percent error\")\n",
    "print(mperr)\n",
    "print(\"Max error\")\n",
    "print(maxerr)"
   ]
  },
  {
   "cell_type": "code",
   "execution_count": 97,
   "id": "f8cb3af3",
   "metadata": {},
   "outputs": [],
   "source": [
    "#Save predictions\n",
    "#np.save(\"predictions_stpsz_pten_3.npy\",modeloutput)\n"
   ]
  },
  {
   "cell_type": "code",
   "execution_count": 93,
   "id": "32bec8f9",
   "metadata": {},
   "outputs": [],
   "source": [
    "# Base line regression prediction\n",
    "\n",
    "\n",
    "\n",
    "\n",
    "#Get first 3 time points as training data\n",
    "X = []\n",
    "Y = []\n",
    "\n",
    "for i in range(n_pat):\n",
    "    \n",
    "    if patensor[i].shape[0] < 5:\n",
    "        continue\n",
    "        \n",
    "        \n",
    "    if np.abs(patensor[i][-1,2]) > meangt_troponin + np.abs(stdgt_troponin)*2:\n",
    "        continue\n",
    "        \n",
    "    \n",
    "    X.append(patensor[i][:4,2])\n",
    "    Y.append(patensor[i][:4,1])\n",
    "    \n",
    "X = np.array(X)\n",
    "Y = np.array(Y)\n"
   ]
  },
  {
   "cell_type": "code",
   "execution_count": 57,
   "id": "3042d031",
   "metadata": {},
   "outputs": [
    {
     "name": "stdout",
     "output_type": "stream",
     "text": [
      "(93, 4)\n",
      "(93, 4)\n"
     ]
    }
   ],
   "source": [
    "print(X.shape)\n",
    "print(Y.shape)"
   ]
  },
  {
   "cell_type": "code",
   "execution_count": 58,
   "id": "67d05793",
   "metadata": {},
   "outputs": [
    {
     "name": "stdout",
     "output_type": "stream",
     "text": [
      "4.21\n"
     ]
    }
   ],
   "source": [
    "#Average number of time points\n",
    "c = []\n",
    "for i in range(n_pat):\n",
    "    c.append(len(patensor[i][:,0]))\n",
    "    \n",
    "print(np.mean(c))"
   ]
  },
  {
   "cell_type": "code",
   "execution_count": 94,
   "id": "11e0ce2a",
   "metadata": {},
   "outputs": [
    {
     "name": "stdout",
     "output_type": "stream",
     "text": [
      "(19, 2)\n",
      "(74, 2)\n",
      "(19, 2)\n",
      "(74, 2)\n"
     ]
    }
   ],
   "source": [
    "#Train test split\n",
    "\n",
    "\n",
    "indx = np.random.choice(np.arange(X.shape[0]),size=X.shape[0])\n",
    "ntrain = int(round(0.2*len(indx)))\n",
    "traind = indx[:ntrain]\n",
    "testind = indx[ntrain:]\n",
    "\n",
    "X_train = X[traind,:2]\n",
    "X_test = X[testind,:2]\n",
    "\n",
    "y_train = X[traind,2:]\n",
    "y_test = Y[testind,2:]\n",
    "\n",
    "print(X_train.shape)\n",
    "print(X_test.shape)\n",
    "print(y_train.shape)\n",
    "print(y_test.shape)\n",
    "\n",
    "\n",
    "\n",
    "\n",
    "\n",
    "#Create personal train/test fit\n"
   ]
  },
  {
   "cell_type": "code",
   "execution_count": 97,
   "id": "25189319",
   "metadata": {},
   "outputs": [
    {
     "name": "stdout",
     "output_type": "stream",
     "text": [
      "81.20715264163162\n",
      "-8.954727250288364\n",
      "79.45765285683656\n"
     ]
    },
    {
     "data": {
      "text/plain": [
       "Text(0, 0.5, 'Percent Error')"
      ]
     },
     "execution_count": 97,
     "metadata": {},
     "output_type": "execute_result"
    },
    {
     "data": {
      "image/png": "[encoded data removed]",
      "text/plain": [
       "<Figure size 432x288 with 1 Axes>"
      ]
     },
     "metadata": {
      "needs_background": "light"
     },
     "output_type": "display_data"
    }
   ],
   "source": [
    "#Complete Linear regression\n",
    "\n",
    "regperr = []\n",
    "for k in range(100):\n",
    "    \n",
    "    \n",
    "\n",
    "    indx = np.random.choice(np.arange(X.shape[0]),size=X.shape[0])\n",
    "    ntrain = int(round(0.2*len(indx)))\n",
    "    traind = indx[:ntrain]\n",
    "    testind = indx[ntrain:]\n",
    "\n",
    "    X_train = X[traind,:2]\n",
    "    X_test = X[testind,:2]\n",
    "\n",
    "    y_train = X[traind,2:]\n",
    "    y_test = Y[testind,2:]\n",
    "\n",
    "    lreg = LinearRegression().fit(X_train,y_train)\n",
    "    y_pred = lreg.predict(X_test)\n",
    "    perreg = np.abs( (y_pred[:,1] - y_test[:,1])/y_test[:,1] ) * 100\n",
    "    regperr.append(perreg)\n",
    "\n",
    "print(np.mean(regperr))\n",
    "print(np.max(y_pred[:,1]-y_test[:,1]))\n",
    "\n",
    "print(np.mean(perreg))\n",
    "\n",
    "\n",
    "plt.figure()\n",
    "plt.plot()\n",
    "plt.title(\"Percent Error between ground truth and predicted troponin levels\")\n",
    "plt.scatter(np.arange(len(perreg)),perreg)\n",
    "plt.xlabel(\"Patients\")\n",
    "plt.ylabel(\"Percent Error\")\n",
    "\n"
   ]
  },
  {
   "cell_type": "code",
   "execution_count": 43,
   "id": "86fae0f2",
   "metadata": {},
   "outputs": [
    {
     "name": "stdout",
     "output_type": "stream",
     "text": [
      "124.255\n",
      "56.97155516639235\n"
     ]
    },
    {
     "data": {
      "text/plain": [
       "Text(0, 0.5, 'Percent Error')"
      ]
     },
     "execution_count": 43,
     "metadata": {},
     "output_type": "execute_result"
    },
    {
     "data": {
      "image/png": "[encoded data removed]",
      "text/plain": [
       "<Figure size 432x288 with 1 Axes>"
      ]
     },
     "metadata": {
      "needs_background": "light"
     },
     "output_type": "display_data"
    }
   ],
   "source": [
    "#Extrapolation\n",
    "\n",
    "m = []\n",
    "xn = []\n",
    "yn = []\n",
    "xextp = []\n",
    "ygt = []\n",
    "for i in range(n_pat):\n",
    "\n",
    "    if patensor[i].shape[0] < 5:\n",
    "        continue\n",
    "        \n",
    "    if np.abs(patensor[i][-1,2]) > meangt_troponin + np.abs(stdgt_troponin)*2:\n",
    "        continue\n",
    "        \n",
    "        \n",
    "    rise = patensor[i][2,2] -  patensor[i][0,2]\n",
    "    run = patensor[i][2,1] -  patensor[i][0,1]\n",
    "    xn.append(patensor[i][2,1])\n",
    "    yn.append(patensor[i][2,2])\n",
    "    xextp.append(patensor[i][3,1])\n",
    "    ygt.append(patensor[i][3,2])\n",
    "\n",
    "    m.append( rise/run ) \n",
    "    \n",
    "yn = np.array(yn)\n",
    "xn = np.array(xn)\n",
    "m = np.array(m)\n",
    "xextp = np.array(xextp)\n",
    "\n",
    "#Perform extrapolation/record error\n",
    "yextp = yn + m*(xextp - xn)\n",
    "perregextp = np.abs( (yextp - ygt)/ygt ) * 100\n",
    "\n",
    "\n",
    "# display results\n",
    "print(np.max(yextp - ygt))\n",
    "print(np.mean(perregextp))\n",
    "plt.figure()\n",
    "plt.plot()\n",
    "plt.title(\"Percent Error between ground truth and predicted troponin levels\")\n",
    "plt.scatter(np.arange(len(perregextp)),perregextp)\n",
    "plt.xlabel(\"Patients\")\n",
    "plt.ylabel(\"Percent Error\")\n"
   ]
  }
 ],
 "metadata": {
  "kernelspec": {
   "display_name": "Python 3 (ipykernel)",
   "language": "python",
   "name": "python3"
  },
  "language_info": {
   "codemirror_mode": {
    "name": "ipython",
    "version": 3
   },
   "file_extension": ".py",
   "mimetype": "text/x-python",
   "name": "python",
   "nbconvert_exporter": "python",
   "pygments_lexer": "ipython3",
   "version": "3.10.4"
  }
 },
 "nbformat": 4,
 "nbformat_minor": 5
}
